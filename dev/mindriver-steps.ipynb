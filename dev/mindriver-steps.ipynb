{
 "cells": [
  {
   "cell_type": "markdown",
   "metadata": {},
   "source": [
    "# `MinDriver` steps\n",
    "\n",
    "In this tutorial, we show how we can save individual steps during minimisation as well as how we can analyse them. We are going to minimise a simple system object. For details on how to define a system object, please have a look at other tutorials."
   ]
  },
  {
   "cell_type": "code",
   "execution_count": 1,
   "metadata": {},
   "outputs": [],
   "source": [
    "import oommfc as mc\n",
    "import discretisedfield as df\n",
    "import micromagneticmodel as mm\n",
    "\n",
    "region = df.Region(p1=(-50e-9, -50e-9, 0), p2=(50e-9, 50e-9, 10e-9))\n",
    "mesh = df.Mesh(region=region, cell=(5e-9, 5e-9, 5e-9))\n",
    "\n",
    "system = mm.System(name='mindriver_steps')\n",
    "\n",
    "system.energy = mm.Zeeman(H=(0, 0, 1e5))\n",
    "system.m = df.Field(mesh, dim=3, value=(1, 0, 0), norm=1.1e6)"
   ]
  },
  {
   "cell_type": "markdown",
   "metadata": {},
   "source": [
    "We now have a system object and we can minimise it using `MinDriver`. By default, `MinDriver` saves only the data of the last step in the relexation. However, if we want to save all individual steps in between, we have to pass `output_step=True` to the `drive` method."
   ]
  },
  {
   "cell_type": "code",
   "execution_count": 2,
   "metadata": {},
   "outputs": [
    {
     "name": "stdout",
     "output_type": "stream",
     "text": [
      "Running OOMMF (ExeOOMMFRunner) [2021/01/01 17:30]... (0.9 s)\n"
     ]
    }
   ],
   "source": [
    "md = mc.MinDriver()\n",
    "md.drive(system, output_step=True)"
   ]
  },
  {
   "cell_type": "markdown",
   "metadata": {},
   "source": [
    "If we have a look at the table, we can see that multiple steps are saved:"
   ]
  },
  {
   "cell_type": "code",
   "execution_count": 3,
   "metadata": {},
   "outputs": [
    {
     "data": {
      "text/html": [
       "<div>\n",
       "<style scoped>\n",
       "    .dataframe tbody tr th:only-of-type {\n",
       "        vertical-align: middle;\n",
       "    }\n",
       "\n",
       "    .dataframe tbody tr th {\n",
       "        vertical-align: top;\n",
       "    }\n",
       "\n",
       "    .dataframe thead th {\n",
       "        text-align: right;\n",
       "    }\n",
       "</style>\n",
       "<table border=\"1\" class=\"dataframe\">\n",
       "  <thead>\n",
       "    <tr style=\"text-align: right;\">\n",
       "      <th></th>\n",
       "      <th>max_mxHxm</th>\n",
       "      <th>E</th>\n",
       "      <th>delta_E</th>\n",
       "      <th>bracket_count</th>\n",
       "      <th>line_min_count</th>\n",
       "      <th>conjugate_cycle_count</th>\n",
       "      <th>cycle_count</th>\n",
       "      <th>cycle_sub_count</th>\n",
       "      <th>energy_calc_count</th>\n",
       "      <th>E_zeeman</th>\n",
       "      <th>iteration</th>\n",
       "      <th>stage_iteration</th>\n",
       "      <th>stage</th>\n",
       "      <th>mx</th>\n",
       "      <th>my</th>\n",
       "      <th>mz</th>\n",
       "    </tr>\n",
       "  </thead>\n",
       "  <tbody>\n",
       "    <tr>\n",
       "      <th>0</th>\n",
       "      <td>1.000000e+05</td>\n",
       "      <td>0.000000e+00</td>\n",
       "      <td>0.000000e+00</td>\n",
       "      <td>0.0</td>\n",
       "      <td>0.0</td>\n",
       "      <td>1.0</td>\n",
       "      <td>1.0</td>\n",
       "      <td>0.0</td>\n",
       "      <td>1.0</td>\n",
       "      <td>0.000000e+00</td>\n",
       "      <td>0.0</td>\n",
       "      <td>0.0</td>\n",
       "      <td>0.0</td>\n",
       "      <td>1.000000e+00</td>\n",
       "      <td>0.0</td>\n",
       "      <td>0.000000</td>\n",
       "    </tr>\n",
       "    <tr>\n",
       "      <th>1</th>\n",
       "      <td>9.999996e+04</td>\n",
       "      <td>-1.206285e-20</td>\n",
       "      <td>-1.206285e-20</td>\n",
       "      <td>1.0</td>\n",
       "      <td>0.0</td>\n",
       "      <td>1.0</td>\n",
       "      <td>1.0</td>\n",
       "      <td>0.0</td>\n",
       "      <td>2.0</td>\n",
       "      <td>-1.206285e-20</td>\n",
       "      <td>1.0</td>\n",
       "      <td>1.0</td>\n",
       "      <td>0.0</td>\n",
       "      <td>9.999996e-01</td>\n",
       "      <td>0.0</td>\n",
       "      <td>0.000873</td>\n",
       "    </tr>\n",
       "    <tr>\n",
       "      <th>2</th>\n",
       "      <td>9.848078e+04</td>\n",
       "      <td>-2.400340e-18</td>\n",
       "      <td>-2.388277e-18</td>\n",
       "      <td>2.0</td>\n",
       "      <td>0.0</td>\n",
       "      <td>1.0</td>\n",
       "      <td>1.0</td>\n",
       "      <td>0.0</td>\n",
       "      <td>3.0</td>\n",
       "      <td>-2.400340e-18</td>\n",
       "      <td>2.0</td>\n",
       "      <td>2.0</td>\n",
       "      <td>0.0</td>\n",
       "      <td>9.848078e-01</td>\n",
       "      <td>0.0</td>\n",
       "      <td>0.173648</td>\n",
       "    </tr>\n",
       "    <tr>\n",
       "      <th>3</th>\n",
       "      <td>9.396926e+04</td>\n",
       "      <td>-4.727747e-18</td>\n",
       "      <td>-2.327407e-18</td>\n",
       "      <td>3.0</td>\n",
       "      <td>0.0</td>\n",
       "      <td>2.0</td>\n",
       "      <td>2.0</td>\n",
       "      <td>0.0</td>\n",
       "      <td>4.0</td>\n",
       "      <td>-4.727747e-18</td>\n",
       "      <td>3.0</td>\n",
       "      <td>3.0</td>\n",
       "      <td>0.0</td>\n",
       "      <td>9.396926e-01</td>\n",
       "      <td>0.0</td>\n",
       "      <td>0.342020</td>\n",
       "    </tr>\n",
       "    <tr>\n",
       "      <th>4</th>\n",
       "      <td>8.660254e+04</td>\n",
       "      <td>-6.911504e-18</td>\n",
       "      <td>-2.183757e-18</td>\n",
       "      <td>4.0</td>\n",
       "      <td>0.0</td>\n",
       "      <td>3.0</td>\n",
       "      <td>3.0</td>\n",
       "      <td>0.0</td>\n",
       "      <td>5.0</td>\n",
       "      <td>-6.911504e-18</td>\n",
       "      <td>4.0</td>\n",
       "      <td>4.0</td>\n",
       "      <td>0.0</td>\n",
       "      <td>8.660254e-01</td>\n",
       "      <td>0.0</td>\n",
       "      <td>0.500000</td>\n",
       "    </tr>\n",
       "    <tr>\n",
       "      <th>5</th>\n",
       "      <td>7.660444e+04</td>\n",
       "      <td>-8.885258e-18</td>\n",
       "      <td>-1.973754e-18</td>\n",
       "      <td>5.0</td>\n",
       "      <td>0.0</td>\n",
       "      <td>4.0</td>\n",
       "      <td>4.0</td>\n",
       "      <td>0.0</td>\n",
       "      <td>6.0</td>\n",
       "      <td>-8.885258e-18</td>\n",
       "      <td>5.0</td>\n",
       "      <td>5.0</td>\n",
       "      <td>0.0</td>\n",
       "      <td>7.660444e-01</td>\n",
       "      <td>0.0</td>\n",
       "      <td>0.642788</td>\n",
       "    </tr>\n",
       "    <tr>\n",
       "      <th>6</th>\n",
       "      <td>6.427876e+04</td>\n",
       "      <td>-1.058904e-17</td>\n",
       "      <td>-1.703780e-18</td>\n",
       "      <td>6.0</td>\n",
       "      <td>0.0</td>\n",
       "      <td>5.0</td>\n",
       "      <td>5.0</td>\n",
       "      <td>0.0</td>\n",
       "      <td>7.0</td>\n",
       "      <td>-1.058904e-17</td>\n",
       "      <td>6.0</td>\n",
       "      <td>6.0</td>\n",
       "      <td>0.0</td>\n",
       "      <td>6.427876e-01</td>\n",
       "      <td>0.0</td>\n",
       "      <td>0.766044</td>\n",
       "    </tr>\n",
       "    <tr>\n",
       "      <th>7</th>\n",
       "      <td>5.000000e+04</td>\n",
       "      <td>-1.197108e-17</td>\n",
       "      <td>-1.382038e-18</td>\n",
       "      <td>7.0</td>\n",
       "      <td>0.0</td>\n",
       "      <td>6.0</td>\n",
       "      <td>6.0</td>\n",
       "      <td>0.0</td>\n",
       "      <td>8.0</td>\n",
       "      <td>-1.197108e-17</td>\n",
       "      <td>7.0</td>\n",
       "      <td>7.0</td>\n",
       "      <td>0.0</td>\n",
       "      <td>5.000000e-01</td>\n",
       "      <td>0.0</td>\n",
       "      <td>0.866025</td>\n",
       "    </tr>\n",
       "    <tr>\n",
       "      <th>8</th>\n",
       "      <td>3.464669e+04</td>\n",
       "      <td>-1.296684e-17</td>\n",
       "      <td>-9.957653e-19</td>\n",
       "      <td>8.0</td>\n",
       "      <td>0.0</td>\n",
       "      <td>7.0</td>\n",
       "      <td>7.0</td>\n",
       "      <td>0.0</td>\n",
       "      <td>9.0</td>\n",
       "      <td>-1.296684e-17</td>\n",
       "      <td>8.0</td>\n",
       "      <td>8.0</td>\n",
       "      <td>0.0</td>\n",
       "      <td>3.464669e-01</td>\n",
       "      <td>0.0</td>\n",
       "      <td>0.938062</td>\n",
       "    </tr>\n",
       "    <tr>\n",
       "      <th>9</th>\n",
       "      <td>3.420201e+04</td>\n",
       "      <td>-1.298938e-17</td>\n",
       "      <td>-2.253721e-20</td>\n",
       "      <td>9.0</td>\n",
       "      <td>0.0</td>\n",
       "      <td>7.0</td>\n",
       "      <td>7.0</td>\n",
       "      <td>0.0</td>\n",
       "      <td>10.0</td>\n",
       "      <td>-1.298938e-17</td>\n",
       "      <td>9.0</td>\n",
       "      <td>9.0</td>\n",
       "      <td>0.0</td>\n",
       "      <td>3.420201e-01</td>\n",
       "      <td>0.0</td>\n",
       "      <td>0.939693</td>\n",
       "    </tr>\n",
       "    <tr>\n",
       "      <th>10</th>\n",
       "      <td>1.981052e+04</td>\n",
       "      <td>-1.354905e-17</td>\n",
       "      <td>-5.596679e-19</td>\n",
       "      <td>10.0</td>\n",
       "      <td>0.0</td>\n",
       "      <td>8.0</td>\n",
       "      <td>8.0</td>\n",
       "      <td>0.0</td>\n",
       "      <td>11.0</td>\n",
       "      <td>-1.354905e-17</td>\n",
       "      <td>10.0</td>\n",
       "      <td>10.0</td>\n",
       "      <td>0.0</td>\n",
       "      <td>1.981052e-01</td>\n",
       "      <td>0.0</td>\n",
       "      <td>0.980181</td>\n",
       "    </tr>\n",
       "    <tr>\n",
       "      <th>11</th>\n",
       "      <td>1.736482e+04</td>\n",
       "      <td>-1.361301e-17</td>\n",
       "      <td>-6.395896e-20</td>\n",
       "      <td>11.0</td>\n",
       "      <td>0.0</td>\n",
       "      <td>8.0</td>\n",
       "      <td>8.0</td>\n",
       "      <td>0.0</td>\n",
       "      <td>12.0</td>\n",
       "      <td>-1.361301e-17</td>\n",
       "      <td>11.0</td>\n",
       "      <td>11.0</td>\n",
       "      <td>0.0</td>\n",
       "      <td>1.736482e-01</td>\n",
       "      <td>0.0</td>\n",
       "      <td>0.984808</td>\n",
       "    </tr>\n",
       "    <tr>\n",
       "      <th>12</th>\n",
       "      <td>6.305027e+03</td>\n",
       "      <td>-1.379550e-17</td>\n",
       "      <td>-1.824996e-19</td>\n",
       "      <td>12.0</td>\n",
       "      <td>0.0</td>\n",
       "      <td>9.0</td>\n",
       "      <td>9.0</td>\n",
       "      <td>0.0</td>\n",
       "      <td>13.0</td>\n",
       "      <td>-1.379550e-17</td>\n",
       "      <td>12.0</td>\n",
       "      <td>12.0</td>\n",
       "      <td>0.0</td>\n",
       "      <td>6.305027e-02</td>\n",
       "      <td>0.0</td>\n",
       "      <td>0.998010</td>\n",
       "    </tr>\n",
       "    <tr>\n",
       "      <th>13</th>\n",
       "      <td>3.143399e-11</td>\n",
       "      <td>-1.382301e-17</td>\n",
       "      <td>-2.750291e-20</td>\n",
       "      <td>13.0</td>\n",
       "      <td>0.0</td>\n",
       "      <td>9.0</td>\n",
       "      <td>9.0</td>\n",
       "      <td>0.0</td>\n",
       "      <td>14.0</td>\n",
       "      <td>-1.382301e-17</td>\n",
       "      <td>13.0</td>\n",
       "      <td>13.0</td>\n",
       "      <td>0.0</td>\n",
       "      <td>3.143399e-16</td>\n",
       "      <td>0.0</td>\n",
       "      <td>1.000000</td>\n",
       "    </tr>\n",
       "  </tbody>\n",
       "</table>\n",
       "</div>"
      ],
      "text/plain": [
       "       max_mxHxm             E       delta_E  bracket_count  line_min_count  \\\n",
       "0   1.000000e+05  0.000000e+00  0.000000e+00            0.0             0.0   \n",
       "1   9.999996e+04 -1.206285e-20 -1.206285e-20            1.0             0.0   \n",
       "2   9.848078e+04 -2.400340e-18 -2.388277e-18            2.0             0.0   \n",
       "3   9.396926e+04 -4.727747e-18 -2.327407e-18            3.0             0.0   \n",
       "4   8.660254e+04 -6.911504e-18 -2.183757e-18            4.0             0.0   \n",
       "5   7.660444e+04 -8.885258e-18 -1.973754e-18            5.0             0.0   \n",
       "6   6.427876e+04 -1.058904e-17 -1.703780e-18            6.0             0.0   \n",
       "7   5.000000e+04 -1.197108e-17 -1.382038e-18            7.0             0.0   \n",
       "8   3.464669e+04 -1.296684e-17 -9.957653e-19            8.0             0.0   \n",
       "9   3.420201e+04 -1.298938e-17 -2.253721e-20            9.0             0.0   \n",
       "10  1.981052e+04 -1.354905e-17 -5.596679e-19           10.0             0.0   \n",
       "11  1.736482e+04 -1.361301e-17 -6.395896e-20           11.0             0.0   \n",
       "12  6.305027e+03 -1.379550e-17 -1.824996e-19           12.0             0.0   \n",
       "13  3.143399e-11 -1.382301e-17 -2.750291e-20           13.0             0.0   \n",
       "\n",
       "    conjugate_cycle_count  cycle_count  cycle_sub_count  energy_calc_count  \\\n",
       "0                     1.0          1.0              0.0                1.0   \n",
       "1                     1.0          1.0              0.0                2.0   \n",
       "2                     1.0          1.0              0.0                3.0   \n",
       "3                     2.0          2.0              0.0                4.0   \n",
       "4                     3.0          3.0              0.0                5.0   \n",
       "5                     4.0          4.0              0.0                6.0   \n",
       "6                     5.0          5.0              0.0                7.0   \n",
       "7                     6.0          6.0              0.0                8.0   \n",
       "8                     7.0          7.0              0.0                9.0   \n",
       "9                     7.0          7.0              0.0               10.0   \n",
       "10                    8.0          8.0              0.0               11.0   \n",
       "11                    8.0          8.0              0.0               12.0   \n",
       "12                    9.0          9.0              0.0               13.0   \n",
       "13                    9.0          9.0              0.0               14.0   \n",
       "\n",
       "        E_zeeman  iteration  stage_iteration  stage            mx   my  \\\n",
       "0   0.000000e+00        0.0              0.0    0.0  1.000000e+00  0.0   \n",
       "1  -1.206285e-20        1.0              1.0    0.0  9.999996e-01  0.0   \n",
       "2  -2.400340e-18        2.0              2.0    0.0  9.848078e-01  0.0   \n",
       "3  -4.727747e-18        3.0              3.0    0.0  9.396926e-01  0.0   \n",
       "4  -6.911504e-18        4.0              4.0    0.0  8.660254e-01  0.0   \n",
       "5  -8.885258e-18        5.0              5.0    0.0  7.660444e-01  0.0   \n",
       "6  -1.058904e-17        6.0              6.0    0.0  6.427876e-01  0.0   \n",
       "7  -1.197108e-17        7.0              7.0    0.0  5.000000e-01  0.0   \n",
       "8  -1.296684e-17        8.0              8.0    0.0  3.464669e-01  0.0   \n",
       "9  -1.298938e-17        9.0              9.0    0.0  3.420201e-01  0.0   \n",
       "10 -1.354905e-17       10.0             10.0    0.0  1.981052e-01  0.0   \n",
       "11 -1.361301e-17       11.0             11.0    0.0  1.736482e-01  0.0   \n",
       "12 -1.379550e-17       12.0             12.0    0.0  6.305027e-02  0.0   \n",
       "13 -1.382301e-17       13.0             13.0    0.0  3.143399e-16  0.0   \n",
       "\n",
       "          mz  \n",
       "0   0.000000  \n",
       "1   0.000873  \n",
       "2   0.173648  \n",
       "3   0.342020  \n",
       "4   0.500000  \n",
       "5   0.642788  \n",
       "6   0.766044  \n",
       "7   0.866025  \n",
       "8   0.938062  \n",
       "9   0.939693  \n",
       "10  0.980181  \n",
       "11  0.984808  \n",
       "12  0.998010  \n",
       "13  1.000000  "
      ]
     },
     "execution_count": 3,
     "metadata": {},
     "output_type": "execute_result"
    }
   ],
   "source": [
    "system.table.data"
   ]
  },
  {
   "cell_type": "markdown",
   "metadata": {},
   "source": [
    "Using all the utility of the `Table` object, we can analyse the data. For instance, we can plot the energy."
   ]
  },
  {
   "cell_type": "code",
   "execution_count": 4,
   "metadata": {},
   "outputs": [
    {
     "data": {
      "image/png": "[encoded data removed]",
      "text/plain": [
       "<Figure size 576x432 with 1 Axes>"
      ]
     },
     "metadata": {},
     "output_type": "display_data"
    }
   ],
   "source": [
    "system.table.mpl(y=['E'])"
   ]
  },
  {
   "cell_type": "markdown",
   "metadata": {},
   "source": [
    "By fecault, iteration is showed on the $x$-axis. We can change that by passing `x` variable. For example:"
   ]
  },
  {
   "cell_type": "code",
   "execution_count": 5,
   "metadata": {},
   "outputs": [
    {
     "data": {
      "image/png": "[encoded data removed]",
      "text/plain": [
       "<Figure size 576x432 with 1 Axes>"
      ]
     },
     "metadata": {},
     "output_type": "display_data"
    }
   ],
   "source": [
    "system.table.mpl(x='mx', y=['E'])"
   ]
  },
  {
   "cell_type": "markdown",
   "metadata": {},
   "source": [
    "## `micromagneticdata` analysis\n",
    "\n",
    "Similar to all other drivers, we can use `micromagneticdata` package to analyse the data. We start by creationg the data object:"
   ]
  },
  {
   "cell_type": "code",
   "execution_count": 6,
   "metadata": {},
   "outputs": [],
   "source": [
    "import micromagneticdata as md\n",
    "data = md.Data(name=system.name)"
   ]
  },
  {
   "cell_type": "markdown",
   "metadata": {},
   "source": [
    "We can have a look at all drives we did so far:"
   ]
  },
  {
   "cell_type": "code",
   "execution_count": 7,
   "metadata": {},
   "outputs": [
    {
     "data": {
      "text/html": [
       "<div>\n",
       "<style scoped>\n",
       "    .dataframe tbody tr th:only-of-type {\n",
       "        vertical-align: middle;\n",
       "    }\n",
       "\n",
       "    .dataframe tbody tr th {\n",
       "        vertical-align: top;\n",
       "    }\n",
       "\n",
       "    .dataframe thead th {\n",
       "        text-align: right;\n",
       "    }\n",
       "</style>\n",
       "<table border=\"1\" class=\"dataframe\">\n",
       "  <thead>\n",
       "    <tr style=\"text-align: right;\">\n",
       "      <th></th>\n",
       "      <th>drive_number</th>\n",
       "      <th>date</th>\n",
       "      <th>time</th>\n",
       "      <th>driver</th>\n",
       "    </tr>\n",
       "  </thead>\n",
       "  <tbody>\n",
       "    <tr>\n",
       "      <th>0</th>\n",
       "      <td>0</td>\n",
       "      <td>2021-01-01</td>\n",
       "      <td>17:21:57</td>\n",
       "      <td>MinDriver</td>\n",
       "    </tr>\n",
       "    <tr>\n",
       "      <th>1</th>\n",
       "      <td>1</td>\n",
       "      <td>2021-01-01</td>\n",
       "      <td>17:30:12</td>\n",
       "      <td>MinDriver</td>\n",
       "    </tr>\n",
       "  </tbody>\n",
       "</table>\n",
       "</div>"
      ],
      "text/plain": [
       "   drive_number        date      time     driver\n",
       "0             0  2021-01-01  17:21:57  MinDriver\n",
       "1             1  2021-01-01  17:30:12  MinDriver"
      ]
     },
     "execution_count": 7,
     "metadata": {},
     "output_type": "execute_result"
    }
   ],
   "source": [
    "data.info"
   ]
  },
  {
   "cell_type": "markdown",
   "metadata": {},
   "source": [
    "There is only one drive and we can get it by passing `0` (ot `-1`) as an index:"
   ]
  },
  {
   "cell_type": "code",
   "execution_count": 8,
   "metadata": {},
   "outputs": [],
   "source": [
    "drive = data[0]"
   ]
  },
  {
   "cell_type": "markdown",
   "metadata": {},
   "source": [
    "We can now plot the magnetisation at individual iterations, by indexing it again with the step number and do all usual operations allowed by `discretisedfield.Field` object."
   ]
  },
  {
   "cell_type": "code",
   "execution_count": 9,
   "metadata": {},
   "outputs": [
    {
     "data": {
      "text/plain": [
       "Field(mesh=Mesh(region=Region(p1=(-5e-08, -5e-08, 0.0), p2=(5e-08, 5e-08, 1e-08)), n=(20, 20, 2), bc='', subregions={}), dim=3)"
      ]
     },
     "execution_count": 9,
     "metadata": {},
     "output_type": "execute_result"
    }
   ],
   "source": [
    "drive[0]"
   ]
  },
  {
   "cell_type": "markdown",
   "metadata": {},
   "source": [
    "The number of steps in the drive is:"
   ]
  },
  {
   "cell_type": "code",
   "execution_count": 10,
   "metadata": {},
   "outputs": [
    {
     "data": {
      "text/plain": [
       "14"
      ]
     },
     "execution_count": 10,
     "metadata": {},
     "output_type": "execute_result"
    }
   ],
   "source": [
    "drive.n"
   ]
  },
  {
   "cell_type": "markdown",
   "metadata": {},
   "source": [
    "Let us now create an interactive plot. For details on how to create custom interactive plots, please have a look at other tutorials."
   ]
  },
  {
   "cell_type": "code",
   "execution_count": 11,
   "metadata": {},
   "outputs": [
    {
     "data": {
      "application/vnd.jupyter.widget-view+json": {
       "model_id": "defa40b072664d89a7260c4ef5df8cb9",
       "version_major": 2,
       "version_minor": 0
      },
      "text/plain": [
       "interactive(children=(IntSlider(value=0, continuous_update=False, description='step', max=13), Output()), _dom…"
      ]
     },
     "metadata": {},
     "output_type": "display_data"
    }
   ],
   "source": [
    "@df.interact(step=drive.slider(continuous_update=False))\n",
    "def my_plot(step):\n",
    "    drive[step].plane('y').mpl()"
   ]
  }
 ],
 "metadata": {
  "kernelspec": {
   "display_name": "Python 3",
   "language": "python",
   "name": "python3"
  },
  "language_info": {
   "codemirror_mode": {
    "name": "ipython",
    "version": 3
   },
   "file_extension": ".py",
   "mimetype": "text/x-python",
   "name": "python",
   "nbconvert_exporter": "python",
   "pygments_lexer": "ipython3",
   "version": "3.8.5"
  },
  "widgets": {
   "application/vnd.jupyter.widget-state+json": {
    "state": {
     "0deb116017044d28941ce78453670042": {
      "model_module": "@jupyter-widgets/output",
      "model_module_version": "1.0.0",
      "model_name": "OutputModel",
      "state": {
       "layout": "IPY_MODEL_d2cba8726d91453ea2d4d676baad3818",
       "outputs": [
        {
         "data": {
          "image/png": "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\n",
          "text/plain": "<Figure size 576x432 with 2 Axes>"
         },
         "metadata": {},
         "output_type": "display_data"
        }
       ]
      }
     },
     "4328ac1be7bc4ce393883086e779832d": {
      "model_module": "@jupyter-widgets/controls",
      "model_module_version": "1.5.0",
      "model_name": "IntSliderModel",
      "state": {
       "continuous_update": false,
       "description": "step",
       "layout": "IPY_MODEL_911b030763e543c8b0e562bf64fbc42b",
       "max": 13,
       "style": "IPY_MODEL_bd110b5f6bbc47d887ca45a179a55280"
      }
     },
     "911b030763e543c8b0e562bf64fbc42b": {
      "model_module": "@jupyter-widgets/base",
      "model_module_version": "1.2.0",
      "model_name": "LayoutModel",
      "state": {}
     },
     "bd110b5f6bbc47d887ca45a179a55280": {
      "model_module": "@jupyter-widgets/controls",
      "model_module_version": "1.5.0",
      "model_name": "SliderStyleModel",
      "state": {
       "description_width": ""
      }
     },
     "c982153af1534f88a3cf2d7e2f400611": {
      "model_module": "@jupyter-widgets/base",
      "model_module_version": "1.2.0",
      "model_name": "LayoutModel",
      "state": {}
     },
     "d2cba8726d91453ea2d4d676baad3818": {
      "model_module": "@jupyter-widgets/base",
      "model_module_version": "1.2.0",
      "model_name": "LayoutModel",
      "state": {}
     },
     "defa40b072664d89a7260c4ef5df8cb9": {
      "model_module": "@jupyter-widgets/controls",
      "model_module_version": "1.5.0",
      "model_name": "VBoxModel",
      "state": {
       "_dom_classes": [
        "widget-interact"
       ],
       "children": [
        "IPY_MODEL_4328ac1be7bc4ce393883086e779832d",
        "IPY_MODEL_0deb116017044d28941ce78453670042"
       ],
       "layout": "IPY_MODEL_c982153af1534f88a3cf2d7e2f400611"
      }
     }
    },
    "version_major": 2,
    "version_minor": 0
   }
  }
 },
 "nbformat": 4,
 "nbformat_minor": 4
}
