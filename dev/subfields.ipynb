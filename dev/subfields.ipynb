{
 "cells": [
  {
   "cell_type": "markdown",
   "metadata": {},
   "source": [
    "# Subfields\n",
    "\n",
    "In this tutorial, we demonstrate several operations that can be used for extracting parts of the field. More precisely, we are going to show how to:\n",
    "\n",
    "1. Get an individual component of a vector field\n",
    "2. Extract smaller region of the field\n",
    "    1. without resampling\n",
    "    2. with resampling\n",
    "    \n",
    "Let us first create a vector field to work with:"
   ]
  },
  {
   "cell_type": "code",
   "execution_count": 2,
   "metadata": {},
   "outputs": [],
   "source": [
    "import discretisedfield as df\n",
    "\n",
    "p1 = (0, 0, 0)\n",
    "p2 = (100, 100, 100)\n",
    "cell = (2, 2, 2)\n",
    "region = df.Region(p1=p1, p2=p2)\n",
    "mesh = df.Mesh(region=region, cell=cell)\n",
    "field = df.Field(mesh, dim=3, value=(-1, 2, 6))"
   ]
  },
  {
   "cell_type": "markdown",
   "metadata": {},
   "source": [
    "## Getting a single component\n",
    "\n",
    "From a vector field we can get its $x$, $y$, or $z$ component by simply asking for the right property. For instance:"
   ]
  },
  {
   "cell_type": "code",
   "execution_count": 3,
   "metadata": {},
   "outputs": [
    {
     "data": {
      "text/plain": [
       "Field(mesh=Mesh(region=Region(p1=(0, 0, 0), p2=(100, 100, 100)), n=(50, 50, 50), bc='', subregions={}), dim=1)"
      ]
     },
     "execution_count": 3,
     "metadata": {},
     "output_type": "execute_result"
    }
   ],
   "source": [
    "field.x"
   ]
  },
  {
   "cell_type": "code",
   "execution_count": 4,
   "metadata": {},
   "outputs": [
    {
     "data": {
      "text/plain": [
       "Field(mesh=Mesh(region=Region(p1=(0, 0, 0), p2=(100, 100, 100)), n=(50, 50, 50), bc='', subregions={}), dim=1)"
      ]
     },
     "execution_count": 4,
     "metadata": {},
     "output_type": "execute_result"
    }
   ],
   "source": [
    "field.y"
   ]
  },
  {
   "cell_type": "code",
   "execution_count": 5,
   "metadata": {},
   "outputs": [
    {
     "data": {
      "text/plain": [
       "Field(mesh=Mesh(region=Region(p1=(0, 0, 0), p2=(100, 100, 100)), n=(50, 50, 50), bc='', subregions={}), dim=1)"
      ]
     },
     "execution_count": 5,
     "metadata": {},
     "output_type": "execute_result"
    }
   ],
   "source": [
    "field.z"
   ]
  },
  {
   "cell_type": "markdown",
   "metadata": {},
   "source": [
    "They all result in a scalar field and from this point on, we can perform all usual operations on fields. For example,"
   ]
  },
  {
   "cell_type": "code",
   "execution_count": 7,
   "metadata": {},
   "outputs": [
    {
     "data": {
      "text/plain": [
       "-1000000.0"
      ]
     },
     "execution_count": 7,
     "metadata": {},
     "output_type": "execute_result"
    }
   ],
   "source": [
    "df.integral(field.x * df.dV)"
   ]
  },
  {
   "cell_type": "markdown",
   "metadata": {},
   "source": [
    "## Extracting smaller region\n",
    "\n",
    "Let us say we are not interested in the entire field but only in its smaller portion (only some discretisation cells) and want to analyse it. In that case, we have two options. Before we discuss them, let us first define what we mean by \"aligned\" meshes:\n",
    "\n",
    "- Mesh A is aligned to mesh B if and only if all cell coordinates of mesh A are the coordinates of cells in mesh B.\n",
    "\n",
    "There is `|` operator which checks that:"
   ]
  },
  {
   "cell_type": "code",
   "execution_count": null,
   "metadata": {},
   "outputs": [],
   "source": []
  }
 ],
 "metadata": {
  "kernelspec": {
   "display_name": "Python 3",
   "language": "python",
   "name": "python3"
  },
  "language_info": {
   "codemirror_mode": {
    "name": "ipython",
    "version": 3
   },
   "file_extension": ".py",
   "mimetype": "text/x-python",
   "name": "python",
   "nbconvert_exporter": "python",
   "pygments_lexer": "ipython3",
   "version": "3.8.5"
  }
 },
 "nbformat": 4,
 "nbformat_minor": 4
}
