{
 "cells": [
  {
   "cell_type": "markdown",
   "metadata": {},
   "source": [
    "# Getting started\n",
    "\n",
    "The following getting started tutorials and exercises are available:\n",
    "\n",
    "- [Getting started 00: First Ubermag notebook](00-getting-started-first-ubermag-notebook.ipynb)\n",
    "- [Getting started 01: Geometry and magnetisation](01-getting-started-geometry.ipynb)\n",
    "- [Getting started 02: Hamiltonian](02-getting-started-hamiltonian.ipynb)\n",
    "- [Getting started 03: Dynamics](03-getting-started-dynamics.ipynb)\n",
    "- [Getting started 04: Current induced domain wall motion](04-getting-started-current-induced-dw-motion.ipynb)\n",
    "- [Exercise 01: Domain wall pair conversion](05-getting-started-exercise-dw-pair-conversion.ipynb)\n",
    "- [Exercise 02: Vortex dynamics](06-getting-started-exercise-vortex-dynamics.ipynb)\n",
    "\n",
    "# Tutorials\n",
    "\n",
    "The following tutorials are available:\n",
    "\n",
    "- [Installation, testing, and upgrade](00-tutorial-installation-testing-upgrade.ipynb)\n",
    "- [Zeeman energy term](01-tutorial-zeeman.ipynb)\n",
    "- [Exchange energy term](02-tutorial-exchange.ipynb)\n",
    "- [Uniaxial anisotropy energy term](03-tutorial-uniaxialanisotropy.ipynb)\n",
    "- [Dzyaloshinskii-Moriya energy term](04-tutorial-dmi.ipynb)\n",
    "- [Cubic anisotropy energy term](05-tutorial-cubicanisotropy.ipynb)\n",
    "- [RKKY energy term](rkky.ipynb)\n",
    "- [Spatially varying parameter](06-tutorial-spatially-varying-parameter.ipynb)\n",
    "- [Negative exchange energy constant](negative-A.ipynb)\n",
    "- [Multiple energy terms of the same class](multiple-terms.ipynb)\n",
    "- [Standard problem 3](07-tutorial-standard-problem3.ipynb)\n",
    "- [Standard problem 4](08-tutorial-standard-problem4.ipynb)\n",
    "- [Standard problem 5](09-tutorial-standard-problem5.ipynb)\n",
    "- [FMR standard problem](10-tutorial-standard-problem-fmr.ipynb)\n",
    "- [Deriving fields and values](11-tutorial-deriving-fields.ipynb)\n",
    "- [Calculating a stray field using an airbox method](12-tutorial-stray-field.ipynb)\n",
    "- [Skyrmion in a disk](13-tutorial-skyrmion.ipynb)\n",
    "- [Docker runner](docker-simulations.ipynb)\n",
    "- [Periodic boundary conditions](14-tutorial-periodic-boundary-conditions.ipynb)\n",
    "- [Support, License, How to cite, and Acknowledgements](15-tutorial-other.ipynb)\n",
    "\n",
    "All available Jupyter notebooks can be found [here](./)."
   ]
  }
 ],
 "metadata": {
  "kernelspec": {
   "display_name": "Python 3",
   "language": "python",
   "name": "python3"
  },
  "language_info": {
   "codemirror_mode": {
    "name": "ipython",
    "version": 3
   },
   "file_extension": ".py",
   "mimetype": "text/x-python",
   "name": "python",
   "nbconvert_exporter": "python",
   "pygments_lexer": "ipython3",
   "version": "3.8.5"
  },
  "widgets": {
   "application/vnd.jupyter.widget-state+json": {
    "state": {},
    "version_major": 2,
    "version_minor": 0
   }
  }
 },
 "nbformat": 4,
 "nbformat_minor": 4
}
